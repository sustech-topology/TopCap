{
 "cells": [
  {
   "cell_type": "code",
   "execution_count": 24,
   "metadata": {},
   "outputs": [],
   "source": [
    "# Modify output TextGrid file from mfa, convert sampling rate to 16 kHz\n",
    "from praatio import textgrid\n",
    "from praatio import audio\n",
    "import os \n",
    "from os.path import join\n",
    "import librosa\n",
    "from scipy.io.wavfile import write\n"
   ]
  },
  {
   "cell_type": "code",
   "execution_count": 25,
   "metadata": {},
   "outputs": [],
   "source": [
    "inputPath=\"E:\\\\MFA\\\\SpeechBox\\\\ALL_ENG_ENG_HT1\"\n",
    "for fn in os.listdir(inputPath):\n",
    "    name,ext=os.path.splitext(fn)\n",
    "    if ext!=\".wav\":\n",
    "        inputFile=\"E:\\\\MFA\\\\SpeechBox\\\\ALL_ENG_ENG_HT1\\\\\"+name+\".Textgrid\"\n",
    "        tg=textgrid.openTextgrid(inputFile,includeEmptyIntervals=False)# modify original textgrid file to words tier only\n",
    "        tg.removeTier('utt')\n",
    "        tg.removeTier('Speaker - phone')\n",
    "        tg.renameTier('Speaker - word','words')\n",
    "        tg.save(\"E:\\\\MFA\\\\article_TDA_phonetic_input\\\\\"+name+\".Textgrid\",'long_textgrid',False)\n",
    "        continue\n",
    "    y, s = librosa.load(\"E:\\\\MFA\\\\SpeechBox\\\\ALL_ENG_ENG_HT1\\\\\"+name+\".wav\", sr=16000)# change sample rate from 22.05kHz to 16kHz\n",
    "    write(\"E:\\\\MFA\\\\article_TDA_phonetic_input\\\\\"+name+\".wav\", 16000, y)\n"
   ]
  }
 ],
 "metadata": {
  "kernelspec": {
   "display_name": "Python 3",
   "language": "python",
   "name": "python3"
  },
  "language_info": {
   "codemirror_mode": {
    "name": "ipython",
    "version": 3
   },
   "file_extension": ".py",
   "mimetype": "text/x-python",
   "name": "python",
   "nbconvert_exporter": "python",
   "pygments_lexer": "ipython3",
   "version": "3.10.6"
  },
  "orig_nbformat": 4,
  "vscode": {
   "interpreter": {
    "hash": "865d8b2eb28e274047ba64063dfb6a2aabf0dfec4905d304d7a76618dae6fdd4"
   }
  }
 },
 "nbformat": 4,
 "nbformat_minor": 2
}
